{
 "cells": [
  {
   "cell_type": "code",
   "execution_count": 7,
   "metadata": {},
   "outputs": [
    {
     "name": "stdout",
     "output_type": "stream",
     "text": [
      "Ridge Mean Square Error:  0.00876849215712725\n",
      "Ridge R2-score:  0.9955086899831574\n",
      "Mean absolute error: 0.07\n",
      "------------------------------------\n"
     ]
    },
    {
     "data": {
      "image/png": "[encoded data removed]",
      "text/plain": [
       "<Figure size 432x288 with 1 Axes>"
      ]
     },
     "metadata": {},
     "output_type": "display_data"
    }
   ],
   "source": [
    "import numpy as np\n",
    "from sklearn.metrics import mean_squared_error, r2_score, mean_absolute_error\n",
    "from sklearn.linear_model import Lasso \n",
    "from sklearn.preprocessing import PolynomialFeatures\n",
    "from random import random, seed \n",
    "from sklearn.pipeline import make_pipeline\n",
    "import matplotlib.pyplot as plt \n",
    "\n",
    "def PolynomialLasso(degree=2, **kwargs):\n",
    "    return make_pipeline(PolynomialFeatures(degree),\n",
    "                         Lasso(**kwargs, alpha=0.001))\n",
    "\n",
    "x=np.random.rand(100,1)\n",
    "\n",
    "y=5*x*x+0.1*np.random.randn(100,1) \n",
    "\n",
    "lassomodel = PolynomialLasso(2)\n",
    "\n",
    "lassomodel.fit(x, y)\n",
    "\n",
    "X_lasso=np.linspace(0,1,100)[:, None]\n",
    "\n",
    "y_lasso = lassomodel.predict(X_lasso)\n",
    "\n",
    "mse=mean_squared_error(lassomodel.predict(x), y)\n",
    "\n",
    "r2=r2_score(lassomodel.predict(x),y)\n",
    "\n",
    "print (\"Ridge Mean Square Error: \",mse)\n",
    "print (\"Ridge R2-score: \",r2 )\n",
    "print('Mean absolute error: %.2f' % mean_absolute_error(lassomodel.predict(x), y))\n",
    "\n",
    "\n",
    "print (\"------------------------------------\")\n",
    "plt.plot(X_lasso.ravel(), y_lasso, color='C1',label='y_lasso')\n",
    "plt.plot(x,y, 'ro', label='y', color='C7')\n",
    "plt.xlabel(r'$x$')\n",
    "plt.ylabel(r'$y$') \n",
    "plt.title(r'Linear Regression - 2.order polynomial') \n",
    "plt.legend()\n",
    "plt.show()"
   ]
  },
  {
   "cell_type": "code",
   "execution_count": null,
   "metadata": {},
   "outputs": [],
   "source": []
  }
 ],
 "metadata": {
  "kernelspec": {
   "display_name": "Python 3",
   "language": "python",
   "name": "python3"
  },
  "language_info": {
   "codemirror_mode": {
    "name": "ipython",
    "version": 3
   },
   "file_extension": ".py",
   "mimetype": "text/x-python",
   "name": "python",
   "nbconvert_exporter": "python",
   "pygments_lexer": "ipython3",
   "version": "3.6.5"
  }
 },
 "nbformat": 4,
 "nbformat_minor": 2
}
